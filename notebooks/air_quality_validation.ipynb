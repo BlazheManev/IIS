{
 "cells": [
  {
   "metadata": {
    "ExecuteTime": {
     "end_time": "2025-06-03T13:17:52.981538Z",
     "start_time": "2025-06-03T13:17:51.842934Z"
    }
   },
   "cell_type": "code",
   "source": [
    "import os\n",
    "import great_expectations as gx\n",
    "\n",
    "# 1. Inicializacija Great Expectations konteksta\n",
    "context = gx.get_context()\n",
    "\n",
    "# 2. Ime datasourca in baza podatkovne poti\n",
    "datasource_name = \"air_quality\"\n",
    "base_dir = \"../data/preprocessed/air\"\n",
    "\n",
    "# 3. Ustvari datasource (če še ni)\n",
    "if datasource_name not in [ds.name for ds in context.list_datasources()]:\n",
    "    datasource = context.sources.add_pandas_filesystem(\n",
    "        name=datasource_name,\n",
    "        base_directory=base_dir\n",
    "    )\n",
    "else:\n",
    "    datasource = context.get_datasource(datasource_name)\n",
    "\n",
    "# 4. Poišči vse CSV datoteke z imeni kot \"Exxx.csv\"\n",
    "csv_files = [f for f in os.listdir(base_dir) if f.startswith(\"E\") and f.endswith(\".csv\")]\n",
    "\n",
    "# 5. Ustvari asset za vsako najdeno datoteko\n",
    "for csv_file in csv_files:\n",
    "    asset_name = f\"air_quality_data_{csv_file.replace('.csv', '')}\"\n",
    "\n",
    "    if asset_name not in [a.name for a in datasource.assets]:\n",
    "        datasource.add_csv_asset(\n",
    "            name=asset_name,\n",
    "            batching_regex=rf\"{csv_file}\"\n",
    "        )\n",
    "        print(f\"✅ Added asset: {asset_name}\")\n",
    "    else:\n",
    "        print(f\"ℹ️ Asset already exists: {asset_name}\")\n"
   ],
   "id": "181e0193997f7bd7",
   "outputs": [
    {
     "name": "stdout",
     "output_type": "stream",
     "text": [
      "✅ Added asset: air_quality_data_E403\n",
      "✅ Added asset: air_quality_data_E404\n",
      "✅ Added asset: air_quality_data_E405\n",
      "✅ Added asset: air_quality_data_E407\n",
      "✅ Added asset: air_quality_data_E409\n",
      "✅ Added asset: air_quality_data_E410\n",
      "✅ Added asset: air_quality_data_E411\n",
      "✅ Added asset: air_quality_data_E412\n",
      "✅ Added asset: air_quality_data_E413\n",
      "✅ Added asset: air_quality_data_E414\n",
      "✅ Added asset: air_quality_data_E415\n",
      "✅ Added asset: air_quality_data_E417\n",
      "✅ Added asset: air_quality_data_E418\n",
      "✅ Added asset: air_quality_data_E419\n",
      "✅ Added asset: air_quality_data_E420\n",
      "✅ Added asset: air_quality_data_E421\n",
      "✅ Added asset: air_quality_data_E423\n",
      "✅ Added asset: air_quality_data_E424\n",
      "✅ Added asset: air_quality_data_E801\n",
      "✅ Added asset: air_quality_data_E802\n",
      "✅ Added asset: air_quality_data_E803\n",
      "✅ Added asset: air_quality_data_E804\n"
     ]
    }
   ],
   "execution_count": 37
  },
  {
   "metadata": {
    "ExecuteTime": {
     "end_time": "2025-06-03T13:19:22.229045Z",
     "start_time": "2025-06-03T13:18:54.718809Z"
    }
   },
   "cell_type": "code",
   "source": [
    "import os\n",
    "import json\n",
    "import great_expectations as gx\n",
    "from great_expectations.core.expectation_suite import ExpectationSuite\n",
    "\n",
    "# 1. Inicializiraj kontekst\n",
    "context = gx.get_context()\n",
    "\n",
    "# 2. Osnovni parametri\n",
    "datasource_name = \"air_quality\"\n",
    "base_dir = \"../data/preprocessed/air\"\n",
    "expectation_suite_name = \"air_quality_suite\"\n",
    "suite_file = \"air_quality_suite.json\"\n",
    "\n",
    "# 3. Uvozi enoten Expectation Suite iz JSON datoteke\n",
    "with open(suite_file, \"r\") as f:\n",
    "    suite_dict = json.load(f)\n",
    "\n",
    "suite = ExpectationSuite(**suite_dict)\n",
    "context.save_expectation_suite(expectation_suite=suite)\n",
    "\n",
    "# 4. Pridobi datasource\n",
    "datasource = context.get_datasource(datasource_name)\n",
    "\n",
    "# 5. Poišči vse CSV datoteke v mapi (npr. E410.csv, E411.csv, ...)\n",
    "csv_files = [f for f in os.listdir(base_dir) if f.startswith(\"E\") and f.endswith(\".csv\")]\n",
    "\n",
    "# 6. Pojdi čez vsako datoteko\n",
    "for csv_file in csv_files:\n",
    "    station_code = csv_file.replace(\".csv\", \"\")\n",
    "    asset_name = f\"air_quality_data_{station_code}\"\n",
    "    checkpoint_name = f\"checkpoint_{station_code}\"\n",
    "\n",
    "    print(f\"\\n🔧 Obdelujem: {csv_file}\")\n",
    "\n",
    "    # 6a. Dodaj asset (če še ne obstaja)\n",
    "    if asset_name not in [a.name for a in datasource.assets]:\n",
    "        datasource.add_csv_asset(\n",
    "            name=asset_name,\n",
    "            batching_regex=rf\"{csv_file}\"\n",
    "        )\n",
    "\n",
    "    # 6b. Pridobi asset in ustvari batch_request\n",
    "    asset = datasource.get_asset(asset_name)\n",
    "    batch_request = asset.build_batch_request()\n",
    "\n",
    "    # 6c. Ustvari validator (za test)\n",
    "    validator = context.get_validator(\n",
    "        batch_request=batch_request,\n",
    "        expectation_suite_name=expectation_suite_name\n",
    "    )\n",
    "\n",
    "    # 6d. Ustvari checkpoint (če še ne obstaja)\n",
    "    try:\n",
    "        context.get_checkpoint(checkpoint_name)\n",
    "    except gx.exceptions.CheckpointNotFoundError:\n",
    "        context.add_or_update_checkpoint(\n",
    "            name=checkpoint_name,\n",
    "            validations=[\n",
    "                {\n",
    "                    \"batch_request\": batch_request,\n",
    "                    \"expectation_suite_name\": expectation_suite_name\n",
    "                }\n",
    "            ]\n",
    "        )\n",
    "\n",
    "    # 6e. Zaženi checkpoint\n",
    "    checkpoint = context.get_checkpoint(checkpoint_name)\n",
    "    result = checkpoint.run(run_id=f\"{station_code}_run\")\n",
    "\n",
    "    # 6f. Rezultat validacije\n",
    "    if result[\"success\"]:\n",
    "        print(f\"✅ {station_code}: Validacija uspešna.\")\n",
    "    else:\n",
    "        print(f\"❌ {station_code}: Validacija padla.\")\n",
    "\n",
    "# 7. Generiraj data docs\n",
    "context.build_data_docs()\n",
    "context.open_data_docs()\n"
   ],
   "id": "43ad6f1fc35fc59c",
   "outputs": [
    {
     "name": "stdout",
     "output_type": "stream",
     "text": [
      "\n",
      "🔧 Obdelujem: E403.csv\n"
     ]
    },
    {
     "data": {
      "text/plain": [
       "Calculating Metrics:   0%|          | 0/38 [00:00<?, ?it/s]"
      ],
      "application/vnd.jupyter.widget-view+json": {
       "version_major": 2,
       "version_minor": 0,
       "model_id": "f5f034937a2448759be835ac56812983"
      }
     },
     "metadata": {},
     "output_type": "display_data"
    },
    {
     "name": "stdout",
     "output_type": "stream",
     "text": [
      "✅ E403: Validacija uspešna.\n",
      "\n",
      "🔧 Obdelujem: E404.csv\n"
     ]
    },
    {
     "data": {
      "text/plain": [
       "Calculating Metrics:   0%|          | 0/38 [00:00<?, ?it/s]"
      ],
      "application/vnd.jupyter.widget-view+json": {
       "version_major": 2,
       "version_minor": 0,
       "model_id": "e68bd06ca4064f798dd8ab421fd6ea74"
      }
     },
     "metadata": {},
     "output_type": "display_data"
    },
    {
     "name": "stdout",
     "output_type": "stream",
     "text": [
      "✅ E404: Validacija uspešna.\n",
      "\n",
      "🔧 Obdelujem: E405.csv\n"
     ]
    },
    {
     "data": {
      "text/plain": [
       "Calculating Metrics:   0%|          | 0/38 [00:00<?, ?it/s]"
      ],
      "application/vnd.jupyter.widget-view+json": {
       "version_major": 2,
       "version_minor": 0,
       "model_id": "653211dfe4fb402b9a65c4f3f1a88b97"
      }
     },
     "metadata": {},
     "output_type": "display_data"
    },
    {
     "name": "stdout",
     "output_type": "stream",
     "text": [
      "✅ E405: Validacija uspešna.\n",
      "\n",
      "🔧 Obdelujem: E407.csv\n"
     ]
    },
    {
     "data": {
      "text/plain": [
       "Calculating Metrics:   0%|          | 0/38 [00:00<?, ?it/s]"
      ],
      "application/vnd.jupyter.widget-view+json": {
       "version_major": 2,
       "version_minor": 0,
       "model_id": "3735417a26eb49ae8641b8fb5cda4f32"
      }
     },
     "metadata": {},
     "output_type": "display_data"
    },
    {
     "name": "stdout",
     "output_type": "stream",
     "text": [
      "✅ E407: Validacija uspešna.\n",
      "\n",
      "🔧 Obdelujem: E409.csv\n"
     ]
    },
    {
     "data": {
      "text/plain": [
       "Calculating Metrics:   0%|          | 0/38 [00:00<?, ?it/s]"
      ],
      "application/vnd.jupyter.widget-view+json": {
       "version_major": 2,
       "version_minor": 0,
       "model_id": "e86e4e9309a74e2395910556f885f815"
      }
     },
     "metadata": {},
     "output_type": "display_data"
    },
    {
     "name": "stdout",
     "output_type": "stream",
     "text": [
      "✅ E409: Validacija uspešna.\n",
      "\n",
      "🔧 Obdelujem: E410.csv\n"
     ]
    },
    {
     "data": {
      "text/plain": [
       "Calculating Metrics:   0%|          | 0/38 [00:00<?, ?it/s]"
      ],
      "application/vnd.jupyter.widget-view+json": {
       "version_major": 2,
       "version_minor": 0,
       "model_id": "c8974acb7bbb4233ace1c80058388d7e"
      }
     },
     "metadata": {},
     "output_type": "display_data"
    },
    {
     "name": "stdout",
     "output_type": "stream",
     "text": [
      "✅ E410: Validacija uspešna.\n",
      "\n",
      "🔧 Obdelujem: E411.csv\n"
     ]
    },
    {
     "data": {
      "text/plain": [
       "Calculating Metrics:   0%|          | 0/38 [00:00<?, ?it/s]"
      ],
      "application/vnd.jupyter.widget-view+json": {
       "version_major": 2,
       "version_minor": 0,
       "model_id": "5f36f625985447d9839d62a22e794998"
      }
     },
     "metadata": {},
     "output_type": "display_data"
    },
    {
     "name": "stdout",
     "output_type": "stream",
     "text": [
      "✅ E411: Validacija uspešna.\n",
      "\n",
      "🔧 Obdelujem: E412.csv\n"
     ]
    },
    {
     "data": {
      "text/plain": [
       "Calculating Metrics:   0%|          | 0/38 [00:00<?, ?it/s]"
      ],
      "application/vnd.jupyter.widget-view+json": {
       "version_major": 2,
       "version_minor": 0,
       "model_id": "8a6651a7039e486eb4e94052a7549fe7"
      }
     },
     "metadata": {},
     "output_type": "display_data"
    },
    {
     "name": "stdout",
     "output_type": "stream",
     "text": [
      "✅ E412: Validacija uspešna.\n",
      "\n",
      "🔧 Obdelujem: E413.csv\n"
     ]
    },
    {
     "data": {
      "text/plain": [
       "Calculating Metrics:   0%|          | 0/38 [00:00<?, ?it/s]"
      ],
      "application/vnd.jupyter.widget-view+json": {
       "version_major": 2,
       "version_minor": 0,
       "model_id": "354f42f7cb4b49a58efbfb66c1e84d4f"
      }
     },
     "metadata": {},
     "output_type": "display_data"
    },
    {
     "name": "stdout",
     "output_type": "stream",
     "text": [
      "✅ E413: Validacija uspešna.\n",
      "\n",
      "🔧 Obdelujem: E414.csv\n"
     ]
    },
    {
     "data": {
      "text/plain": [
       "Calculating Metrics:   0%|          | 0/38 [00:00<?, ?it/s]"
      ],
      "application/vnd.jupyter.widget-view+json": {
       "version_major": 2,
       "version_minor": 0,
       "model_id": "b4fc004d4ca948bb9fa2a77f2910e3d8"
      }
     },
     "metadata": {},
     "output_type": "display_data"
    },
    {
     "name": "stdout",
     "output_type": "stream",
     "text": [
      "✅ E414: Validacija uspešna.\n",
      "\n",
      "🔧 Obdelujem: E415.csv\n"
     ]
    },
    {
     "data": {
      "text/plain": [
       "Calculating Metrics:   0%|          | 0/38 [00:00<?, ?it/s]"
      ],
      "application/vnd.jupyter.widget-view+json": {
       "version_major": 2,
       "version_minor": 0,
       "model_id": "140bc89f86fd402bb3e457efe8e4add1"
      }
     },
     "metadata": {},
     "output_type": "display_data"
    },
    {
     "name": "stdout",
     "output_type": "stream",
     "text": [
      "✅ E415: Validacija uspešna.\n",
      "\n",
      "🔧 Obdelujem: E417.csv\n"
     ]
    },
    {
     "data": {
      "text/plain": [
       "Calculating Metrics:   0%|          | 0/38 [00:00<?, ?it/s]"
      ],
      "application/vnd.jupyter.widget-view+json": {
       "version_major": 2,
       "version_minor": 0,
       "model_id": "f996ceec740f4677886b86e67d71c42a"
      }
     },
     "metadata": {},
     "output_type": "display_data"
    },
    {
     "name": "stdout",
     "output_type": "stream",
     "text": [
      "✅ E417: Validacija uspešna.\n",
      "\n",
      "🔧 Obdelujem: E418.csv\n"
     ]
    },
    {
     "data": {
      "text/plain": [
       "Calculating Metrics:   0%|          | 0/38 [00:00<?, ?it/s]"
      ],
      "application/vnd.jupyter.widget-view+json": {
       "version_major": 2,
       "version_minor": 0,
       "model_id": "68ce9e8918304aa183a41efc0f2ebc3b"
      }
     },
     "metadata": {},
     "output_type": "display_data"
    },
    {
     "name": "stdout",
     "output_type": "stream",
     "text": [
      "✅ E418: Validacija uspešna.\n",
      "\n",
      "🔧 Obdelujem: E419.csv\n"
     ]
    },
    {
     "data": {
      "text/plain": [
       "Calculating Metrics:   0%|          | 0/38 [00:00<?, ?it/s]"
      ],
      "application/vnd.jupyter.widget-view+json": {
       "version_major": 2,
       "version_minor": 0,
       "model_id": "65b03e2511794fc4a914d669a65a70b4"
      }
     },
     "metadata": {},
     "output_type": "display_data"
    },
    {
     "name": "stdout",
     "output_type": "stream",
     "text": [
      "✅ E419: Validacija uspešna.\n",
      "\n",
      "🔧 Obdelujem: E420.csv\n"
     ]
    },
    {
     "data": {
      "text/plain": [
       "Calculating Metrics:   0%|          | 0/38 [00:00<?, ?it/s]"
      ],
      "application/vnd.jupyter.widget-view+json": {
       "version_major": 2,
       "version_minor": 0,
       "model_id": "58135d65c1f4401097239df84a3b2e3f"
      }
     },
     "metadata": {},
     "output_type": "display_data"
    },
    {
     "name": "stdout",
     "output_type": "stream",
     "text": [
      "✅ E420: Validacija uspešna.\n",
      "\n",
      "🔧 Obdelujem: E421.csv\n"
     ]
    },
    {
     "data": {
      "text/plain": [
       "Calculating Metrics:   0%|          | 0/38 [00:00<?, ?it/s]"
      ],
      "application/vnd.jupyter.widget-view+json": {
       "version_major": 2,
       "version_minor": 0,
       "model_id": "df419aac761d4729bec93fdbbf3503ac"
      }
     },
     "metadata": {},
     "output_type": "display_data"
    },
    {
     "name": "stdout",
     "output_type": "stream",
     "text": [
      "✅ E421: Validacija uspešna.\n",
      "\n",
      "🔧 Obdelujem: E423.csv\n"
     ]
    },
    {
     "data": {
      "text/plain": [
       "Calculating Metrics:   0%|          | 0/38 [00:00<?, ?it/s]"
      ],
      "application/vnd.jupyter.widget-view+json": {
       "version_major": 2,
       "version_minor": 0,
       "model_id": "f4cc6a7971644ba0990bf2967ff9145a"
      }
     },
     "metadata": {},
     "output_type": "display_data"
    },
    {
     "name": "stdout",
     "output_type": "stream",
     "text": [
      "✅ E423: Validacija uspešna.\n",
      "\n",
      "🔧 Obdelujem: E424.csv\n"
     ]
    },
    {
     "data": {
      "text/plain": [
       "Calculating Metrics:   0%|          | 0/38 [00:00<?, ?it/s]"
      ],
      "application/vnd.jupyter.widget-view+json": {
       "version_major": 2,
       "version_minor": 0,
       "model_id": "56909063faca48d6a50ad7b3f5406d81"
      }
     },
     "metadata": {},
     "output_type": "display_data"
    },
    {
     "name": "stdout",
     "output_type": "stream",
     "text": [
      "✅ E424: Validacija uspešna.\n",
      "\n",
      "🔧 Obdelujem: E801.csv\n"
     ]
    },
    {
     "data": {
      "text/plain": [
       "Calculating Metrics:   0%|          | 0/38 [00:00<?, ?it/s]"
      ],
      "application/vnd.jupyter.widget-view+json": {
       "version_major": 2,
       "version_minor": 0,
       "model_id": "89fbc395cbc347d6ac826656cf482921"
      }
     },
     "metadata": {},
     "output_type": "display_data"
    },
    {
     "name": "stdout",
     "output_type": "stream",
     "text": [
      "✅ E801: Validacija uspešna.\n",
      "\n",
      "🔧 Obdelujem: E802.csv\n"
     ]
    },
    {
     "data": {
      "text/plain": [
       "Calculating Metrics:   0%|          | 0/38 [00:00<?, ?it/s]"
      ],
      "application/vnd.jupyter.widget-view+json": {
       "version_major": 2,
       "version_minor": 0,
       "model_id": "9bada5c0510047b9a72f3e3f8870b4c1"
      }
     },
     "metadata": {},
     "output_type": "display_data"
    },
    {
     "name": "stdout",
     "output_type": "stream",
     "text": [
      "✅ E802: Validacija uspešna.\n",
      "\n",
      "🔧 Obdelujem: E803.csv\n"
     ]
    },
    {
     "data": {
      "text/plain": [
       "Calculating Metrics:   0%|          | 0/38 [00:00<?, ?it/s]"
      ],
      "application/vnd.jupyter.widget-view+json": {
       "version_major": 2,
       "version_minor": 0,
       "model_id": "7977bd42f66e467da0bbe06bbf2a8568"
      }
     },
     "metadata": {},
     "output_type": "display_data"
    },
    {
     "name": "stdout",
     "output_type": "stream",
     "text": [
      "✅ E803: Validacija uspešna.\n",
      "\n",
      "🔧 Obdelujem: E804.csv\n"
     ]
    },
    {
     "data": {
      "text/plain": [
       "Calculating Metrics:   0%|          | 0/38 [00:00<?, ?it/s]"
      ],
      "application/vnd.jupyter.widget-view+json": {
       "version_major": 2,
       "version_minor": 0,
       "model_id": "d30deceb05b94270b113d4c9de5ec1f4"
      }
     },
     "metadata": {},
     "output_type": "display_data"
    },
    {
     "name": "stdout",
     "output_type": "stream",
     "text": [
      "✅ E804: Validacija uspešna.\n"
     ]
    }
   ],
   "execution_count": 38
  }
 ],
 "metadata": {
  "kernelspec": {
   "display_name": "Python 3",
   "language": "python",
   "name": "python3"
  },
  "language_info": {
   "codemirror_mode": {
    "name": "ipython",
    "version": 2
   },
   "file_extension": ".py",
   "mimetype": "text/x-python",
   "name": "python",
   "nbconvert_exporter": "python",
   "pygments_lexer": "ipython2",
   "version": "2.7.6"
  }
 },
 "nbformat": 4,
 "nbformat_minor": 5
}
